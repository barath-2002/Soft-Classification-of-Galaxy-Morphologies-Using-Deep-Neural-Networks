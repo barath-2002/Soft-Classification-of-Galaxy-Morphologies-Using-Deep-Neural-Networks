{
  "metadata": {
    "colab": {
      "provenance": [],
      "gpuType": "V100",
      "machine_shape": "hm"
    },
    "kernelspec": {
      "name": "python3",
      "display_name": "Python 3"
    },
    "language_info": {
      "name": "python",
      "version": "3.10.13",
      "mimetype": "text/x-python",
      "codemirror_mode": {
        "name": "ipython",
        "version": 3
      },
      "pygments_lexer": "ipython3",
      "nbconvert_exporter": "python",
      "file_extension": ".py"
    },
    "accelerator": "GPU",
    "kaggle": {
      "accelerator": "nvidiaTeslaT4",
      "dataSources": [
        {
          "sourceId": 8044014,
          "sourceType": "datasetVersion",
          "datasetId": 4742897
        }
      ],
      "dockerImageVersionId": 30674,
      "isInternetEnabled": true,
      "language": "python",
      "sourceType": "notebook",
      "isGpuEnabled": true
    }
  },
  "nbformat_minor": 0,
  "nbformat": 4,
  "cells": [
    {
      "cell_type": "code",
      "source": [
        "import numpy as np\n",
        "import pandas as pd\n",
        "import tensorflow as tf\n",
        "import tensorflow_hub as hub\n",
        "import os\n",
        "import gc\n",
        "import random\n",
        "import matplotlib.pyplot as plt\n",
        "import zipfile\n",
        "import keras\n",
        "from sklearn.model_selection import train_test_split\n",
        "from keras import layers\n",
        "from keras.models import Sequential, Model\n",
        "from keras.layers import Activation, Dropout, Flatten, Dense, BatchNormalization, GlobalMaxPooling2D\n",
        "from keras.preprocessing import image\n",
        "from tensorflow.keras.preprocessing.image import ImageDataGenerator\n",
        "from tensorflow.keras.callbacks import ModelCheckpoint, EarlyStopping\n",
        "from keras.layers import Conv2D, MaxPooling2D, Flatten, Dense, Dropout\n",
        "from keras.optimizers import Adam\n",
        "from keras.metrics import MeanSquaredError, RootMeanSquaredError\n",
        "from keras.utils import to_categorical\n",
        "from tensorflow.keras.models import load_model\n",
        "import glob\n",
        "from sklearn.model_selection import train_test_split\n",
        "from tqdm import tqdm\n",
        "import json\n",
        "from tensorflow.keras.callbacks import Callback, CSVLogger"
      ],
      "metadata": {
        "id": "5jdp_UQUNRPd"
      },
      "execution_count": null,
      "outputs": []
    },
    {
      "cell_type": "code",
      "source": [
        "from google.colab import drive\n",
        "drive.mount('/content/drive')"
      ],
      "metadata": {
        "colab": {
          "base_uri": "https://localhost:8080/"
        },
        "id": "drM1K2DiAd9l",
        "outputId": "5d3eb005-ee2a-4252-9358-7a56ac1a4671",
        "trusted": true
      },
      "execution_count": null,
      "outputs": [
        {
          "output_type": "stream",
          "name": "stdout",
          "text": [
            "Mounted at /content/drive\n"
          ]
        }
      ]
    },
    {
      "cell_type": "markdown",
      "source": [
        "# Load data"
      ],
      "metadata": {
        "id": "u0G-heTKt9iX"
      }
    },
    {
      "cell_type": "code",
      "source": [
        "data_path = '/content/drive/MyDrive/GalaxyZoo/compressed_img_target.npz'\n",
        "loaded_arrays = np.load(data_path)\n",
        "\n",
        "with tqdm(total=1) as pbar:\n",
        "    training_images = np.load(data_path, allow_pickle=True)  # allow_pickle=True is necessary for loading npz files with Python 3.7+\n",
        "    pbar.update(1) # Update progress bar\n",
        "\n",
        "# Retrieve the arrays\n",
        "train = loaded_arrays['images']\n",
        "target = loaded_arrays['target']\n",
        "\n",
        "print(\"Shape of the array of training images:\", train.shape)"
      ],
      "metadata": {
        "id": "BE6VIT-qAf3K",
        "execution": {
          "iopub.status.busy": "2024-04-06T09:57:20.526842Z",
          "iopub.execute_input": "2024-04-06T09:57:20.527110Z",
          "iopub.status.idle": "2024-04-06T09:57:20.558253Z",
          "shell.execute_reply.started": "2024-04-06T09:57:20.527079Z",
          "shell.execute_reply": "2024-04-06T09:57:20.557308Z"
        },
        "trusted": true,
        "colab": {
          "base_uri": "https://localhost:8080/"
        },
        "outputId": "f35fc7da-6cdb-48a8-bbcf-ea2e5b2a0535"
      },
      "execution_count": null,
      "outputs": [
        {
          "output_type": "stream",
          "name": "stderr",
          "text": [
            "100%|██████████| 1/1 [00:00<00:00, 278.62it/s]\n"
          ]
        },
        {
          "output_type": "stream",
          "name": "stdout",
          "text": [
            "Shape of the array of training images: (61578, 64, 64, 3)\n"
          ]
        }
      ]
    },
    {
      "cell_type": "code",
      "source": [
        "# First split to separate out the test set\n",
        "X_temp, X_test, y_temp, y_test = train_test_split(train, target, test_size=0.2, random_state=42)\n",
        "\n",
        "# Normalize pixel values to range [0, 1]\n",
        "X_temp = X_temp.astype('float32') / 255\n",
        "X_test = X_test.astype('float32') / 255\n",
        "y_temp = y_temp.astype('float32')\n",
        "y_test = y_test.astype('float32')\n",
        "\n",
        "# Second split to divide the remaining data into training and validation sets\n",
        "X_train, X_val, y_train, y_val = train_test_split(X_temp, y_temp, test_size=0.2, random_state=42)"
      ],
      "metadata": {
        "execution": {
          "iopub.status.busy": "2024-04-06T09:57:30.446874Z",
          "iopub.execute_input": "2024-04-06T09:57:30.447149Z",
          "iopub.status.idle": "2024-04-06T09:57:30.868634Z",
          "shell.execute_reply.started": "2024-04-06T09:57:30.447126Z",
          "shell.execute_reply": "2024-04-06T09:57:30.867831Z"
        },
        "trusted": true,
        "id": "ALlrMF-Z9Uoc"
      },
      "execution_count": null,
      "outputs": []
    },
    {
      "cell_type": "markdown",
      "source": [
        "# Image augmentation and resizing"
      ],
      "metadata": {
        "id": "HuutMLyduEBS"
      }
    },
    {
      "cell_type": "code",
      "source": [
        "# Initialising the ImageDataGenerator with specified augmentations\n",
        "training_data_generator = ImageDataGenerator(\n",
        "    zoom_range=0.10,  # Randomly increase or decrease the size of the image by up to 10%\n",
        "    rotation_range=25,  # Randomly rotate the image between -25 to 25 degrees\n",
        "    width_shift_range=0.05,  # Shift the image along its width by up to +/- 5%\n",
        "    height_shift_range=0.05,  # Shift the image along its height by up to +/- 5%\n",
        "    fill_mode='nearest',  # Fill in newly created pixels after a shift or rotation\n",
        ")\n",
        "\n",
        "# Image resizing and data augmentation\n",
        "def preprocess_and_augment(image, label):\n",
        "    # Function to resize and augment images\n",
        "    image_resized = tf.image.resize(image, [224, 224])\n",
        "    image_batch = tf.expand_dims(image_resized, 0)\n",
        "    image_augmented = training_data_generator.random_transform(image_batch[0].numpy())\n",
        "    return image_augmented, label\n",
        "\n",
        "# Convert the training data to a TensorFlow dataset, augment, and resize\n",
        "dataset = tf.data.Dataset.from_tensor_slices((X_train, y_train))\n",
        "dataset = dataset.map(lambda x, y: tf.py_function(preprocess_and_augment, [x, y], [tf.float32, y.dtype]),\n",
        "                      num_parallel_calls=tf.data.AUTOTUNE)\n",
        "batch_size = 128\n",
        "dataset = dataset.batch(batch_size).prefetch(tf.data.AUTOTUNE)\n",
        "\n",
        "def preprocess_images(images):\n",
        "    images_resized = tf.image.resize(images, [224, 224])\n",
        "    return images_resized\n",
        "\n",
        "# Convert the validation data to a TensorFlow dataset and resize\n",
        "val_dataset = tf.data.Dataset.from_tensor_slices((X_val, y_val))\n",
        "val_dataset = val_dataset.map(lambda x, y: (preprocess_images(x), y), num_parallel_calls=tf.data.AUTOTUNE)\n",
        "val_batch_size = 128\n",
        "val_dataset = val_dataset.batch(val_batch_size).prefetch(tf.data.AUTOTUNE)\n",
        "\n",
        "# Convert the test data to a TensorFlow dataset and resize\n",
        "test_dataset = tf.data.Dataset.from_tensor_slices((X_test, y_test))\n",
        "test_dataset = test_dataset.map(lambda x, y: (preprocess_images(x), y), num_parallel_calls=tf.data.AUTOTUNE)\n",
        "test_dataset = test_dataset.batch(128)\n",
        "test_dataset = test_dataset.prefetch(tf.data.AUTOTUNE)"
      ],
      "metadata": {
        "execution": {
          "iopub.status.busy": "2024-04-06T09:57:31.865917Z",
          "iopub.execute_input": "2024-04-06T09:57:31.866208Z",
          "iopub.status.idle": "2024-04-06T09:57:31.872258Z",
          "shell.execute_reply.started": "2024-04-06T09:57:31.866184Z",
          "shell.execute_reply": "2024-04-06T09:57:31.871357Z"
        },
        "trusted": true,
        "id": "dzpnkPNQ9Uod"
      },
      "execution_count": null,
      "outputs": []
    },
    {
      "cell_type": "markdown",
      "source": [
        "# Constrained loss function"
      ],
      "metadata": {
        "id": "wuiAHlXLIxnb"
      }
    },
    {
      "cell_type": "code",
      "source": [
        "def custom_loss(y_true, y_pred):\n",
        "    lamda = 0.001\n",
        "    c1 = tf.abs(tf.reduce_sum(y_pred[:, 0:3], axis=1) - 1) # Class 1 constraint\n",
        "    c2 = tf.abs(tf.reduce_sum(y_pred[:, 13:15], axis=1) - 1) # Class 6 constraint\n",
        "    c3 = tf.abs((y_pred[:, 3] + y_pred[:, 4]) - y_pred[:, 1]) # Class 2 constraint\n",
        "    c4 = tf.abs((y_pred[:, 15] + y_pred[:, 16] + y_pred[:, 17]) - y_pred[:, 10]) # Class 7 constraint\n",
        "    c5 = tf.abs(tf.reduce_sum(y_pred[:, 18:25], axis=1) - y_pred[:, 13]) # Class 8 constraint\n",
        "    c6 = tf.abs(tf.reduce_sum(y_pred[:, 25:28], axis=1) - y_pred[:, 3]) # Class 9 constraint\n",
        "    c7 = tf.abs(tf.reduce_sum(y_pred[:, 5:7], axis=1) - y_pred[:, 4]) # Class 3 constraint\n",
        "    c8 = tf.abs(tf.reduce_sum(y_pred[:, 7:9], axis=1) - y_pred[:, 4]) # Class 4 constraint\n",
        "    c9 = tf.abs(tf.reduce_sum(y_pred[:, 28:31], axis=1) - y_pred[:, 7]) # Class 10 constraint\n",
        "    c10 = tf.abs(tf.reduce_sum(y_pred[:, 9:13], axis=1) - y_pred[:, 7] - y_pred[:, 8]) # Class 5 constraint\n",
        "    c11 = tf.abs(tf.reduce_sum(y_pred[:, 31:37], axis=1) - y_pred[:, 7]) # Class 11 constraint\n",
        "\n",
        "    c_loss = lamda*(c1+c2+c3+c4+c5+c6+c7+c8+c9+c10+c11)\n",
        "\n",
        "    # Base loss (mean squared error)\n",
        "    mse_loss = tf.reduce_mean(tf.square(y_true - y_pred))\n",
        "\n",
        "    # Combine base loss with constraints (you may need to adjust the weighting)\n",
        "    return mse_loss + c_loss"
      ],
      "metadata": {
        "id": "xu3F1JG9Iwsl"
      },
      "execution_count": null,
      "outputs": []
    },
    {
      "cell_type": "markdown",
      "source": [
        "# VGG16"
      ],
      "metadata": {
        "id": "CYk0YmRjiJl8"
      }
    },
    {
      "cell_type": "markdown",
      "source": [
        "##Import base model"
      ],
      "metadata": {
        "id": "80G56WuhuILY"
      }
    },
    {
      "cell_type": "code",
      "source": [
        "from tensorflow.keras.applications.vgg16 import VGG16\n",
        "\n",
        "# Define the base model - VGG16\n",
        "base_model = VGG16(\n",
        "    include_top=False,\n",
        "    input_shape=(224, 224, 3)\n",
        ")\n",
        "\n",
        "base_model.trainable = False"
      ],
      "metadata": {
        "execution": {
          "iopub.status.busy": "2024-04-06T09:57:42.509465Z",
          "iopub.execute_input": "2024-04-06T09:57:42.509831Z",
          "iopub.status.idle": "2024-04-06T09:57:46.101612Z",
          "shell.execute_reply.started": "2024-04-06T09:57:42.509802Z",
          "shell.execute_reply": "2024-04-06T09:57:46.100804Z"
        },
        "trusted": true,
        "colab": {
          "base_uri": "https://localhost:8080/"
        },
        "id": "GA7IJsdt9Uog",
        "outputId": "0c91d474-2a7a-4bc5-8ce2-2f9194245fcc"
      },
      "execution_count": null,
      "outputs": [
        {
          "output_type": "stream",
          "name": "stdout",
          "text": [
            "Downloading data from https://storage.googleapis.com/tensorflow/keras-applications/vgg16/vgg16_weights_tf_dim_ordering_tf_kernels_notop.h5\n",
            "58889256/58889256 [==============================] - 2s 0us/step\n"
          ]
        }
      ]
    },
    {
      "cell_type": "markdown",
      "source": [
        "## Stack trainable layers on top"
      ],
      "metadata": {
        "id": "zsmuQViBuKVv"
      }
    },
    {
      "cell_type": "code",
      "source": [
        "# Model extension using the functional API\n",
        "x = base_model.output\n",
        "# Flatten the output layer to 1 dimension\n",
        "x = Flatten()(x)\n",
        "# Add a fully connected layer with 512 hidden units and ReLU activation\n",
        "x = Dense(512, activation='relu')(x)\n",
        "# Add a dropout rate of 0.1\n",
        "x = Dropout(0.1)(x)\n",
        "# Output layer\n",
        "x = Dense(37, activation='sigmoid')(x)\n",
        "\n",
        "# final model\n",
        "VGG16 = Model(base_model.input, x)\n",
        "VGG16.summary()"
      ],
      "metadata": {
        "execution": {
          "iopub.status.busy": "2024-04-06T09:57:46.103043Z",
          "iopub.execute_input": "2024-04-06T09:57:46.103380Z",
          "iopub.status.idle": "2024-04-06T09:57:46.168562Z",
          "shell.execute_reply.started": "2024-04-06T09:57:46.103354Z",
          "shell.execute_reply": "2024-04-06T09:57:46.167750Z"
        },
        "trusted": true,
        "colab": {
          "base_uri": "https://localhost:8080/"
        },
        "id": "ldO4eAx39Uog",
        "outputId": "51fbc6cc-f4f6-4356-e4b6-bd1fb58cee76"
      },
      "execution_count": null,
      "outputs": [
        {
          "output_type": "stream",
          "name": "stdout",
          "text": [
            "Model: \"model\"\n",
            "_________________________________________________________________\n",
            " Layer (type)                Output Shape              Param #   \n",
            "=================================================================\n",
            " input_1 (InputLayer)        [(None, 224, 224, 3)]     0         \n",
            "                                                                 \n",
            " block1_conv1 (Conv2D)       (None, 224, 224, 64)      1792      \n",
            "                                                                 \n",
            " block1_conv2 (Conv2D)       (None, 224, 224, 64)      36928     \n",
            "                                                                 \n",
            " block1_pool (MaxPooling2D)  (None, 112, 112, 64)      0         \n",
            "                                                                 \n",
            " block2_conv1 (Conv2D)       (None, 112, 112, 128)     73856     \n",
            "                                                                 \n",
            " block2_conv2 (Conv2D)       (None, 112, 112, 128)     147584    \n",
            "                                                                 \n",
            " block2_pool (MaxPooling2D)  (None, 56, 56, 128)       0         \n",
            "                                                                 \n",
            " block3_conv1 (Conv2D)       (None, 56, 56, 256)       295168    \n",
            "                                                                 \n",
            " block3_conv2 (Conv2D)       (None, 56, 56, 256)       590080    \n",
            "                                                                 \n",
            " block3_conv3 (Conv2D)       (None, 56, 56, 256)       590080    \n",
            "                                                                 \n",
            " block3_pool (MaxPooling2D)  (None, 28, 28, 256)       0         \n",
            "                                                                 \n",
            " block4_conv1 (Conv2D)       (None, 28, 28, 512)       1180160   \n",
            "                                                                 \n",
            " block4_conv2 (Conv2D)       (None, 28, 28, 512)       2359808   \n",
            "                                                                 \n",
            " block4_conv3 (Conv2D)       (None, 28, 28, 512)       2359808   \n",
            "                                                                 \n",
            " block4_pool (MaxPooling2D)  (None, 14, 14, 512)       0         \n",
            "                                                                 \n",
            " block5_conv1 (Conv2D)       (None, 14, 14, 512)       2359808   \n",
            "                                                                 \n",
            " block5_conv2 (Conv2D)       (None, 14, 14, 512)       2359808   \n",
            "                                                                 \n",
            " block5_conv3 (Conv2D)       (None, 14, 14, 512)       2359808   \n",
            "                                                                 \n",
            " block5_pool (MaxPooling2D)  (None, 7, 7, 512)         0         \n",
            "                                                                 \n",
            " flatten (Flatten)           (None, 25088)             0         \n",
            "                                                                 \n",
            " dense (Dense)               (None, 512)               12845568  \n",
            "                                                                 \n",
            " dropout (Dropout)           (None, 512)               0         \n",
            "                                                                 \n",
            " dense_1 (Dense)             (None, 37)                18981     \n",
            "                                                                 \n",
            "=================================================================\n",
            "Total params: 27579237 (105.21 MB)\n",
            "Trainable params: 12864549 (49.07 MB)\n",
            "Non-trainable params: 14714688 (56.13 MB)\n",
            "_________________________________________________________________\n"
          ]
        }
      ]
    },
    {
      "cell_type": "code",
      "source": [
        "VGG16.compile(optimizer='adam', loss=custom_loss, metrics=[RootMeanSquaredError()])"
      ],
      "metadata": {
        "execution": {
          "iopub.status.busy": "2024-04-06T09:58:01.081529Z",
          "iopub.execute_input": "2024-04-06T09:58:01.081884Z",
          "iopub.status.idle": "2024-04-06T10:14:49.417682Z",
          "shell.execute_reply.started": "2024-04-06T09:58:01.081859Z",
          "shell.execute_reply": "2024-04-06T10:14:49.416896Z"
        },
        "trusted": true,
        "id": "lkt8kCdh9Uog"
      },
      "execution_count": null,
      "outputs": []
    },
    {
      "cell_type": "markdown",
      "source": [
        "## Save weights and training history"
      ],
      "metadata": {
        "id": "Ky1bA48Pu8Hw"
      }
    },
    {
      "cell_type": "code",
      "source": [
        "# Directory where checkpoints and history will be saved\n",
        "checkpoint_dir = '/content/drive/MyDrive/GalaxyZoo/vgg16_checkpoints/'\n",
        "history_file = '/content/drive/MyDrive/GalaxyZoo/vgg16_training_history.csv'\n",
        "\n",
        "if not os.path.exists(checkpoint_dir):\n",
        "    os.makedirs(checkpoint_dir)\n",
        "\n",
        "# Callback for model checkpoints\n",
        "checkpoint_callback = ModelCheckpoint(\n",
        "    filepath=os.path.join(checkpoint_dir, 'vgg16_epoch_{epoch:02d}_val_loss_{val_loss:.2f}.keras'),\n",
        "    save_best_only=True,\n",
        "    monitor='val_loss',\n",
        "    mode='min',\n",
        "    verbose=1\n",
        ")\n",
        "\n",
        "# Callback for saving training history\n",
        "csv_logger = CSVLogger(history_file, append=True)"
      ],
      "metadata": {
        "id": "4kGIQIlZ1kac"
      },
      "execution_count": null,
      "outputs": []
    },
    {
      "cell_type": "code",
      "source": [
        "# EarlyStopping callback\n",
        "early_stopping_callback = EarlyStopping(monitor='val_loss', patience=20, verbose=1, mode='min', restore_best_weights=True)"
      ],
      "metadata": {
        "id": "4tc4m6xkLu6U"
      },
      "execution_count": null,
      "outputs": []
    },
    {
      "cell_type": "markdown",
      "source": [
        "## Train model"
      ],
      "metadata": {
        "id": "lnl6B_lBuUy8"
      }
    },
    {
      "cell_type": "code",
      "source": [
        "history_vgg16 = VGG16.fit(dataset, validation_data=val_dataset, epochs=50, callbacks=[checkpoint_callback, csv_logger, early_stopping_callback])"
      ],
      "metadata": {
        "colab": {
          "base_uri": "https://localhost:8080/"
        },
        "id": "nTYlAY7-KkQY",
        "outputId": "d44dd8ec-368f-4d74-c104-bba93562a9e1"
      },
      "execution_count": null,
      "outputs": [
        {
          "output_type": "stream",
          "name": "stdout",
          "text": [
            "Epoch 1/50\n",
            "308/308 [==============================] - ETA: 0s - loss: 0.0359 - root_mean_squared_error: 0.1861\n",
            "Epoch 1: val_loss improved from inf to 0.01791, saving model to /content/drive/MyDrive/GalaxyZoo/vgg16_resized_checkpoints/vgg16_epoch_01_val_loss_0.02.keras\n",
            "308/308 [==============================] - 219s 667ms/step - loss: 0.0359 - root_mean_squared_error: 0.1861 - val_loss: 0.0179 - val_root_mean_squared_error: 0.1316\n",
            "Epoch 2/50\n",
            "308/308 [==============================] - ETA: 0s - loss: 0.0180 - root_mean_squared_error: 0.1315\n",
            "Epoch 2: val_loss improved from 0.01791 to 0.01620, saving model to /content/drive/MyDrive/GalaxyZoo/vgg16_resized_checkpoints/vgg16_epoch_02_val_loss_0.02.keras\n",
            "308/308 [==============================] - 192s 622ms/step - loss: 0.0180 - root_mean_squared_error: 0.1315 - val_loss: 0.0162 - val_root_mean_squared_error: 0.1248\n",
            "Epoch 3/50\n",
            "308/308 [==============================] - ETA: 0s - loss: 0.0167 - root_mean_squared_error: 0.1267\n",
            "Epoch 3: val_loss improved from 0.01620 to 0.01566, saving model to /content/drive/MyDrive/GalaxyZoo/vgg16_resized_checkpoints/vgg16_epoch_03_val_loss_0.02.keras\n",
            "308/308 [==============================] - 196s 637ms/step - loss: 0.0167 - root_mean_squared_error: 0.1267 - val_loss: 0.0157 - val_root_mean_squared_error: 0.1232\n",
            "Epoch 4/50\n",
            "308/308 [==============================] - ETA: 0s - loss: 0.0164 - root_mean_squared_error: 0.1256\n",
            "Epoch 4: val_loss did not improve from 0.01566\n",
            "308/308 [==============================] - 189s 613ms/step - loss: 0.0164 - root_mean_squared_error: 0.1256 - val_loss: 0.0162 - val_root_mean_squared_error: 0.1252\n",
            "Epoch 5/50\n",
            "308/308 [==============================] - ETA: 0s - loss: 0.0160 - root_mean_squared_error: 0.1241\n",
            "Epoch 5: val_loss did not improve from 0.01566\n",
            "308/308 [==============================] - 190s 617ms/step - loss: 0.0160 - root_mean_squared_error: 0.1241 - val_loss: 0.0161 - val_root_mean_squared_error: 0.1246\n",
            "Epoch 6/50\n",
            "308/308 [==============================] - ETA: 0s - loss: 0.0158 - root_mean_squared_error: 0.1234\n",
            "Epoch 6: val_loss improved from 0.01566 to 0.01530, saving model to /content/drive/MyDrive/GalaxyZoo/vgg16_resized_checkpoints/vgg16_epoch_06_val_loss_0.02.keras\n",
            "308/308 [==============================] - 190s 618ms/step - loss: 0.0158 - root_mean_squared_error: 0.1234 - val_loss: 0.0153 - val_root_mean_squared_error: 0.1217\n",
            "Epoch 7/50\n",
            "308/308 [==============================] - ETA: 0s - loss: 0.0156 - root_mean_squared_error: 0.1225\n",
            "Epoch 7: val_loss improved from 0.01530 to 0.01530, saving model to /content/drive/MyDrive/GalaxyZoo/vgg16_resized_checkpoints/vgg16_epoch_07_val_loss_0.02.keras\n",
            "308/308 [==============================] - 192s 622ms/step - loss: 0.0156 - root_mean_squared_error: 0.1225 - val_loss: 0.0153 - val_root_mean_squared_error: 0.1215\n",
            "Epoch 8/50\n",
            "308/308 [==============================] - ETA: 0s - loss: 0.0155 - root_mean_squared_error: 0.1222\n",
            "Epoch 8: val_loss improved from 0.01530 to 0.01510, saving model to /content/drive/MyDrive/GalaxyZoo/vgg16_resized_checkpoints/vgg16_epoch_08_val_loss_0.02.keras\n",
            "308/308 [==============================] - 192s 624ms/step - loss: 0.0155 - root_mean_squared_error: 0.1222 - val_loss: 0.0151 - val_root_mean_squared_error: 0.1207\n",
            "Epoch 9/50\n",
            "308/308 [==============================] - ETA: 0s - loss: 0.0155 - root_mean_squared_error: 0.1221\n",
            "Epoch 9: val_loss improved from 0.01510 to 0.01499, saving model to /content/drive/MyDrive/GalaxyZoo/vgg16_resized_checkpoints/vgg16_epoch_09_val_loss_0.01.keras\n",
            "308/308 [==============================] - 192s 622ms/step - loss: 0.0155 - root_mean_squared_error: 0.1221 - val_loss: 0.0150 - val_root_mean_squared_error: 0.1197\n",
            "Epoch 10/50\n",
            "308/308 [==============================] - ETA: 0s - loss: 0.0154 - root_mean_squared_error: 0.1218\n",
            "Epoch 10: val_loss did not improve from 0.01499\n",
            "308/308 [==============================] - 189s 614ms/step - loss: 0.0154 - root_mean_squared_error: 0.1218 - val_loss: 0.0152 - val_root_mean_squared_error: 0.1212\n",
            "Epoch 11/50\n",
            "308/308 [==============================] - ETA: 0s - loss: 0.0153 - root_mean_squared_error: 0.1213\n",
            "Epoch 11: val_loss improved from 0.01499 to 0.01429, saving model to /content/drive/MyDrive/GalaxyZoo/vgg16_resized_checkpoints/vgg16_epoch_11_val_loss_0.01.keras\n",
            "308/308 [==============================] - 191s 621ms/step - loss: 0.0153 - root_mean_squared_error: 0.1213 - val_loss: 0.0143 - val_root_mean_squared_error: 0.1173\n",
            "Epoch 12/50\n",
            "308/308 [==============================] - ETA: 0s - loss: 0.0151 - root_mean_squared_error: 0.1207\n",
            "Epoch 12: val_loss improved from 0.01429 to 0.01417, saving model to /content/drive/MyDrive/GalaxyZoo/vgg16_resized_checkpoints/vgg16_epoch_12_val_loss_0.01.keras\n",
            "308/308 [==============================] - 193s 626ms/step - loss: 0.0151 - root_mean_squared_error: 0.1207 - val_loss: 0.0142 - val_root_mean_squared_error: 0.1168\n",
            "Epoch 13/50\n",
            "308/308 [==============================] - ETA: 0s - loss: 0.0151 - root_mean_squared_error: 0.1204\n",
            "Epoch 13: val_loss did not improve from 0.01417\n",
            "308/308 [==============================] - 191s 621ms/step - loss: 0.0151 - root_mean_squared_error: 0.1204 - val_loss: 0.0145 - val_root_mean_squared_error: 0.1178\n",
            "Epoch 14/50\n",
            "308/308 [==============================] - ETA: 0s - loss: 0.0149 - root_mean_squared_error: 0.1198\n",
            "Epoch 14: val_loss improved from 0.01417 to 0.01393, saving model to /content/drive/MyDrive/GalaxyZoo/vgg16_resized_checkpoints/vgg16_epoch_14_val_loss_0.01.keras\n",
            "308/308 [==============================] - 192s 623ms/step - loss: 0.0149 - root_mean_squared_error: 0.1198 - val_loss: 0.0139 - val_root_mean_squared_error: 0.1157\n",
            "Epoch 15/50\n",
            "308/308 [==============================] - ETA: 0s - loss: 0.0149 - root_mean_squared_error: 0.1198\n",
            "Epoch 15: val_loss did not improve from 0.01393\n",
            "308/308 [==============================] - 191s 621ms/step - loss: 0.0149 - root_mean_squared_error: 0.1198 - val_loss: 0.0142 - val_root_mean_squared_error: 0.1169\n",
            "Epoch 16/50\n",
            "308/308 [==============================] - ETA: 0s - loss: 0.0149 - root_mean_squared_error: 0.1196\n",
            "Epoch 16: val_loss improved from 0.01393 to 0.01379, saving model to /content/drive/MyDrive/GalaxyZoo/vgg16_resized_checkpoints/vgg16_epoch_16_val_loss_0.01.keras\n",
            "308/308 [==============================] - 192s 624ms/step - loss: 0.0149 - root_mean_squared_error: 0.1196 - val_loss: 0.0138 - val_root_mean_squared_error: 0.1152\n",
            "Epoch 17/50\n",
            "308/308 [==============================] - ETA: 0s - loss: 0.0148 - root_mean_squared_error: 0.1195\n",
            "Epoch 17: val_loss did not improve from 0.01379\n",
            "308/308 [==============================] - 191s 619ms/step - loss: 0.0148 - root_mean_squared_error: 0.1195 - val_loss: 0.0142 - val_root_mean_squared_error: 0.1167\n",
            "Epoch 18/50\n",
            "308/308 [==============================] - ETA: 0s - loss: 0.0148 - root_mean_squared_error: 0.1192\n",
            "Epoch 18: val_loss did not improve from 0.01379\n",
            "308/308 [==============================] - 190s 618ms/step - loss: 0.0148 - root_mean_squared_error: 0.1192 - val_loss: 0.0144 - val_root_mean_squared_error: 0.1177\n",
            "Epoch 19/50\n",
            "308/308 [==============================] - ETA: 0s - loss: 0.0148 - root_mean_squared_error: 0.1193\n",
            "Epoch 19: val_loss did not improve from 0.01379\n",
            "308/308 [==============================] - 190s 618ms/step - loss: 0.0148 - root_mean_squared_error: 0.1193 - val_loss: 0.0139 - val_root_mean_squared_error: 0.1156\n",
            "Epoch 20/50\n",
            "308/308 [==============================] - ETA: 0s - loss: 0.0147 - root_mean_squared_error: 0.1188\n",
            "Epoch 20: val_loss did not improve from 0.01379\n",
            "308/308 [==============================] - 190s 617ms/step - loss: 0.0147 - root_mean_squared_error: 0.1188 - val_loss: 0.0140 - val_root_mean_squared_error: 0.1160\n",
            "Epoch 21/50\n",
            "308/308 [==============================] - ETA: 0s - loss: 0.0147 - root_mean_squared_error: 0.1191\n",
            "Epoch 21: val_loss did not improve from 0.01379\n",
            "308/308 [==============================] - 190s 616ms/step - loss: 0.0147 - root_mean_squared_error: 0.1191 - val_loss: 0.0142 - val_root_mean_squared_error: 0.1166\n",
            "Epoch 22/50\n",
            "308/308 [==============================] - ETA: 0s - loss: 0.0146 - root_mean_squared_error: 0.1186\n",
            "Epoch 22: val_loss did not improve from 0.01379\n",
            "308/308 [==============================] - 189s 615ms/step - loss: 0.0146 - root_mean_squared_error: 0.1186 - val_loss: 0.0138 - val_root_mean_squared_error: 0.1156\n",
            "Epoch 23/50\n",
            "308/308 [==============================] - ETA: 0s - loss: 0.0147 - root_mean_squared_error: 0.1190\n",
            "Epoch 23: val_loss did not improve from 0.01379\n",
            "308/308 [==============================] - 193s 627ms/step - loss: 0.0147 - root_mean_squared_error: 0.1190 - val_loss: 0.0142 - val_root_mean_squared_error: 0.1171\n",
            "Epoch 24/50\n",
            "308/308 [==============================] - ETA: 0s - loss: 0.0146 - root_mean_squared_error: 0.1186\n",
            "Epoch 24: val_loss did not improve from 0.01379\n",
            "308/308 [==============================] - 189s 613ms/step - loss: 0.0146 - root_mean_squared_error: 0.1186 - val_loss: 0.0140 - val_root_mean_squared_error: 0.1162\n",
            "Epoch 25/50\n",
            "308/308 [==============================] - ETA: 0s - loss: 0.0145 - root_mean_squared_error: 0.1182\n",
            "Epoch 25: val_loss did not improve from 0.01379\n",
            "308/308 [==============================] - 191s 621ms/step - loss: 0.0145 - root_mean_squared_error: 0.1182 - val_loss: 0.0141 - val_root_mean_squared_error: 0.1162\n",
            "Epoch 26/50\n",
            "308/308 [==============================] - ETA: 0s - loss: 0.0145 - root_mean_squared_error: 0.1181\n",
            "Epoch 26: val_loss improved from 0.01379 to 0.01359, saving model to /content/drive/MyDrive/GalaxyZoo/vgg16_resized_checkpoints/vgg16_epoch_26_val_loss_0.01.keras\n",
            "308/308 [==============================] - 188s 612ms/step - loss: 0.0145 - root_mean_squared_error: 0.1181 - val_loss: 0.0136 - val_root_mean_squared_error: 0.1143\n",
            "Epoch 27/50\n",
            "308/308 [==============================] - ETA: 0s - loss: 0.0145 - root_mean_squared_error: 0.1181\n",
            "Epoch 27: val_loss did not improve from 0.01359\n",
            "308/308 [==============================] - 186s 605ms/step - loss: 0.0145 - root_mean_squared_error: 0.1181 - val_loss: 0.0139 - val_root_mean_squared_error: 0.1156\n",
            "Epoch 28/50\n",
            "308/308 [==============================] - ETA: 0s - loss: 0.0144 - root_mean_squared_error: 0.1180\n",
            "Epoch 28: val_loss did not improve from 0.01359\n",
            "308/308 [==============================] - 189s 612ms/step - loss: 0.0144 - root_mean_squared_error: 0.1180 - val_loss: 0.0136 - val_root_mean_squared_error: 0.1147\n",
            "Epoch 29/50\n",
            "308/308 [==============================] - ETA: 0s - loss: 0.0144 - root_mean_squared_error: 0.1177\n",
            "Epoch 29: val_loss did not improve from 0.01359\n",
            "308/308 [==============================] - 188s 609ms/step - loss: 0.0144 - root_mean_squared_error: 0.1177 - val_loss: 0.0140 - val_root_mean_squared_error: 0.1162\n",
            "Epoch 30/50\n",
            "308/308 [==============================] - ETA: 0s - loss: 0.0144 - root_mean_squared_error: 0.1180\n",
            "Epoch 30: val_loss did not improve from 0.01359\n",
            "308/308 [==============================] - 186s 604ms/step - loss: 0.0144 - root_mean_squared_error: 0.1180 - val_loss: 0.0144 - val_root_mean_squared_error: 0.1176\n",
            "Epoch 31/50\n",
            "308/308 [==============================] - ETA: 0s - loss: 0.0143 - root_mean_squared_error: 0.1175\n",
            "Epoch 31: val_loss did not improve from 0.01359\n",
            "308/308 [==============================] - 191s 619ms/step - loss: 0.0143 - root_mean_squared_error: 0.1175 - val_loss: 0.0139 - val_root_mean_squared_error: 0.1157\n",
            "Epoch 32/50\n",
            "308/308 [==============================] - ETA: 0s - loss: 0.0142 - root_mean_squared_error: 0.1171\n",
            "Epoch 32: val_loss did not improve from 0.01359\n",
            "308/308 [==============================] - 190s 616ms/step - loss: 0.0142 - root_mean_squared_error: 0.1171 - val_loss: 0.0138 - val_root_mean_squared_error: 0.1154\n",
            "Epoch 33/50\n",
            "308/308 [==============================] - ETA: 0s - loss: 0.0143 - root_mean_squared_error: 0.1175\n",
            "Epoch 33: val_loss improved from 0.01359 to 0.01358, saving model to /content/drive/MyDrive/GalaxyZoo/vgg16_resized_checkpoints/vgg16_epoch_33_val_loss_0.01.keras\n",
            "308/308 [==============================] - 192s 623ms/step - loss: 0.0143 - root_mean_squared_error: 0.1175 - val_loss: 0.0136 - val_root_mean_squared_error: 0.1144\n",
            "Epoch 34/50\n",
            "308/308 [==============================] - ETA: 0s - loss: 0.0142 - root_mean_squared_error: 0.1171\n",
            "Epoch 34: val_loss improved from 0.01358 to 0.01337, saving model to /content/drive/MyDrive/GalaxyZoo/vgg16_resized_checkpoints/vgg16_epoch_34_val_loss_0.01.keras\n",
            "308/308 [==============================] - 194s 631ms/step - loss: 0.0142 - root_mean_squared_error: 0.1171 - val_loss: 0.0134 - val_root_mean_squared_error: 0.1134\n",
            "Epoch 35/50\n",
            "308/308 [==============================] - ETA: 0s - loss: 0.0142 - root_mean_squared_error: 0.1171\n",
            "Epoch 35: val_loss did not improve from 0.01337\n",
            "308/308 [==============================] - 193s 626ms/step - loss: 0.0142 - root_mean_squared_error: 0.1171 - val_loss: 0.0137 - val_root_mean_squared_error: 0.1147\n",
            "Epoch 36/50\n",
            "308/308 [==============================] - ETA: 0s - loss: 0.0141 - root_mean_squared_error: 0.1167\n",
            "Epoch 36: val_loss did not improve from 0.01337\n",
            "308/308 [==============================] - 194s 630ms/step - loss: 0.0141 - root_mean_squared_error: 0.1167 - val_loss: 0.0139 - val_root_mean_squared_error: 0.1156\n",
            "Epoch 37/50\n",
            "308/308 [==============================] - ETA: 0s - loss: 0.0142 - root_mean_squared_error: 0.1169\n",
            "Epoch 37: val_loss did not improve from 0.01337\n",
            "308/308 [==============================] - 197s 639ms/step - loss: 0.0142 - root_mean_squared_error: 0.1169 - val_loss: 0.0135 - val_root_mean_squared_error: 0.1142\n",
            "Epoch 38/50\n",
            "308/308 [==============================] - ETA: 0s - loss: 0.0141 - root_mean_squared_error: 0.1166\n",
            "Epoch 38: val_loss did not improve from 0.01337\n",
            "308/308 [==============================] - 192s 624ms/step - loss: 0.0141 - root_mean_squared_error: 0.1166 - val_loss: 0.0139 - val_root_mean_squared_error: 0.1158\n",
            "Epoch 39/50\n",
            "308/308 [==============================] - ETA: 0s - loss: 0.0141 - root_mean_squared_error: 0.1166\n",
            "Epoch 39: val_loss did not improve from 0.01337\n",
            "308/308 [==============================] - 191s 618ms/step - loss: 0.0141 - root_mean_squared_error: 0.1166 - val_loss: 0.0137 - val_root_mean_squared_error: 0.1147\n",
            "Epoch 40/50\n",
            "308/308 [==============================] - ETA: 0s - loss: 0.0142 - root_mean_squared_error: 0.1168\n",
            "Epoch 40: val_loss did not improve from 0.01337\n",
            "308/308 [==============================] - 189s 614ms/step - loss: 0.0142 - root_mean_squared_error: 0.1168 - val_loss: 0.0137 - val_root_mean_squared_error: 0.1148\n",
            "Epoch 41/50\n",
            "308/308 [==============================] - ETA: 0s - loss: 0.0141 - root_mean_squared_error: 0.1166\n",
            "Epoch 41: val_loss did not improve from 0.01337\n",
            "308/308 [==============================] - 192s 625ms/step - loss: 0.0141 - root_mean_squared_error: 0.1166 - val_loss: 0.0136 - val_root_mean_squared_error: 0.1142\n",
            "Epoch 42/50\n",
            "308/308 [==============================] - ETA: 0s - loss: 0.0141 - root_mean_squared_error: 0.1168\n",
            "Epoch 42: val_loss did not improve from 0.01337\n",
            "308/308 [==============================] - 191s 619ms/step - loss: 0.0141 - root_mean_squared_error: 0.1168 - val_loss: 0.0141 - val_root_mean_squared_error: 0.1166\n",
            "Epoch 43/50\n",
            "308/308 [==============================] - ETA: 0s - loss: 0.0142 - root_mean_squared_error: 0.1168\n",
            "Epoch 43: val_loss did not improve from 0.01337\n",
            "308/308 [==============================] - 190s 618ms/step - loss: 0.0142 - root_mean_squared_error: 0.1168 - val_loss: 0.0135 - val_root_mean_squared_error: 0.1141\n",
            "Epoch 44/50\n",
            "308/308 [==============================] - ETA: 0s - loss: 0.0141 - root_mean_squared_error: 0.1166\n",
            "Epoch 44: val_loss did not improve from 0.01337\n",
            "308/308 [==============================] - 190s 619ms/step - loss: 0.0141 - root_mean_squared_error: 0.1166 - val_loss: 0.0136 - val_root_mean_squared_error: 0.1142\n",
            "Epoch 45/50\n",
            "308/308 [==============================] - ETA: 0s - loss: 0.0142 - root_mean_squared_error: 0.1171\n",
            "Epoch 45: val_loss did not improve from 0.01337\n",
            "308/308 [==============================] - 192s 622ms/step - loss: 0.0142 - root_mean_squared_error: 0.1171 - val_loss: 0.0137 - val_root_mean_squared_error: 0.1149\n",
            "Epoch 46/50\n",
            "308/308 [==============================] - ETA: 0s - loss: 0.0141 - root_mean_squared_error: 0.1166\n",
            "Epoch 46: val_loss did not improve from 0.01337\n",
            "308/308 [==============================] - 191s 619ms/step - loss: 0.0141 - root_mean_squared_error: 0.1166 - val_loss: 0.0138 - val_root_mean_squared_error: 0.1157\n",
            "Epoch 47/50\n",
            "308/308 [==============================] - ETA: 0s - loss: 0.0142 - root_mean_squared_error: 0.1170\n",
            "Epoch 47: val_loss did not improve from 0.01337\n",
            "308/308 [==============================] - 192s 622ms/step - loss: 0.0142 - root_mean_squared_error: 0.1170 - val_loss: 0.0134 - val_root_mean_squared_error: 0.1135\n",
            "Epoch 48/50\n",
            "308/308 [==============================] - ETA: 0s - loss: 0.0141 - root_mean_squared_error: 0.1166\n",
            "Epoch 48: val_loss did not improve from 0.01337\n",
            "308/308 [==============================] - 190s 618ms/step - loss: 0.0141 - root_mean_squared_error: 0.1166 - val_loss: 0.0137 - val_root_mean_squared_error: 0.1150\n",
            "Epoch 49/50\n",
            "308/308 [==============================] - ETA: 0s - loss: 0.0141 - root_mean_squared_error: 0.1165\n",
            "Epoch 49: val_loss did not improve from 0.01337\n",
            "308/308 [==============================] - 194s 631ms/step - loss: 0.0141 - root_mean_squared_error: 0.1165 - val_loss: 0.0134 - val_root_mean_squared_error: 0.1136\n",
            "Epoch 50/50\n",
            "308/308 [==============================] - ETA: 0s - loss: 0.0141 - root_mean_squared_error: 0.1165\n",
            "Epoch 50: val_loss did not improve from 0.01337\n",
            "308/308 [==============================] - 194s 630ms/step - loss: 0.0141 - root_mean_squared_error: 0.1165 - val_loss: 0.0137 - val_root_mean_squared_error: 0.1147\n"
          ]
        }
      ]
    },
    {
      "cell_type": "markdown",
      "source": [
        "# Out of sample performance"
      ],
      "metadata": {
        "id": "1i_ba_Fbuujv"
      }
    },
    {
      "cell_type": "code",
      "source": [
        "# Evaluate model\n",
        "test_loss, test_rmse = VGG16.evaluate(test_dataset)\n",
        "print('Test RMSE:', test_rmse)"
      ],
      "metadata": {
        "execution": {
          "iopub.status.busy": "2024-04-06T10:53:14.651665Z",
          "iopub.execute_input": "2024-04-06T10:53:14.652586Z",
          "iopub.status.idle": "2024-04-06T10:53:14.909612Z",
          "shell.execute_reply.started": "2024-04-06T10:53:14.652551Z",
          "shell.execute_reply": "2024-04-06T10:53:14.908830Z"
        },
        "trusted": true,
        "colab": {
          "base_uri": "https://localhost:8080/"
        },
        "id": "IsJvK1JE9Uog",
        "outputId": "ff83e1d1-9705-4689-e888-1c399b1fc8f2"
      },
      "execution_count": null,
      "outputs": [
        {
          "output_type": "stream",
          "name": "stdout",
          "text": [
            "97/97 [==============================] - 16s 156ms/step - loss: 0.0138 - root_mean_squared_error: 0.1153\n",
            "Test RMSE: 0.11528801918029785\n"
          ]
        }
      ]
    },
    {
      "cell_type": "markdown",
      "source": [
        "# Training and validation history"
      ],
      "metadata": {
        "id": "QuWqvfA7uql-"
      }
    },
    {
      "cell_type": "code",
      "source": [
        "history_file_path = '/content/drive/MyDrive/GalaxyZoo/vgg16_training_history.csv'\n",
        "training_history = pd.read_csv(history_file_path)\n",
        "\n",
        "train_metric = training_history['root_mean_squared_error']\n",
        "val_metric = training_history['val_root_mean_squared_error']\n",
        "epochs = range(1, len(train_metric) + 1)\n",
        "\n",
        "plt.figure(figsize=(10, 8))\n",
        "plt.plot(epochs, train_metric, 'b', label='Training RMSE')\n",
        "plt.plot(epochs, val_metric, 'r', label='Validation RMSE')\n",
        "plt.title('VGG16: Training and validation RMSE')\n",
        "plt.xlabel('Epochs')\n",
        "plt.ylabel('RMSE')\n",
        "plt.legend()\n",
        "plt.savefig('/content/drive/MyDrive/GalaxyZoo/Plots/VGG_trainval.png')\n",
        "plt.show()"
      ],
      "metadata": {
        "trusted": true,
        "colab": {
          "base_uri": "https://localhost:8080/",
          "height": 718
        },
        "id": "WBFZShXU9Uog",
        "outputId": "b6021f3b-b8c6-4196-cd51-d53b26103a46"
      },
      "execution_count": null,
      "outputs": [
        {
          "output_type": "display_data",
          "data": {
            "text/plain": [
              "<Figure size 1000x800 with 1 Axes>"
            ],
            "image/png": "[encoded data removed]"
          },
          "metadata": {}
        }
      ]
    },
    {
      "cell_type": "code",
      "source": [],
      "metadata": {
        "id": "pZVcJCtaNVbk"
      },
      "execution_count": null,
      "outputs": []
    }
  ]
}